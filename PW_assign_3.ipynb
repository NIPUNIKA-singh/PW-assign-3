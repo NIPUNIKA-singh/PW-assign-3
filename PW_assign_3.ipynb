{
  "nbformat": 4,
  "nbformat_minor": 0,
  "metadata": {
    "colab": {
      "provenance": []
    },
    "kernelspec": {
      "name": "python3",
      "display_name": "Python 3"
    },
    "language_info": {
      "name": "python"
    }
  },
  "cells": [
    {
      "cell_type": "markdown",
      "source": [
        "# **THEORY QUESTIONS with EXAMPLES**"
      ],
      "metadata": {
        "id": "l1uQ2BV2-oBq"
      }
    },
    {
      "cell_type": "markdown",
      "source": [
        "**1. What is the difference between a function and a method in Python?**\n",
        "\n",
        "       A function is a block of reusable code defined using def, and it can exist independently.\n",
        "\n",
        "       A method is a function that is associated with an object (belongs to a class)."
      ],
      "metadata": {
        "id": "DHykcwQ7_UXu"
      }
    },
    {
      "cell_type": "code",
      "execution_count": 1,
      "metadata": {
        "colab": {
          "base_uri": "https://localhost:8080/"
        },
        "id": "Aq472qDa-ils",
        "outputId": "2d1a9b05-f037-4548-df82-a85f0e67cc14"
      },
      "outputs": [
        {
          "output_type": "stream",
          "name": "stdout",
          "text": [
            "5\n",
            "[1, 2, 3, 4]\n"
          ]
        }
      ],
      "source": [
        "#Example:\n",
        "\n",
        "# Function\n",
        "def add(a, b):\n",
        "    return a + b\n",
        "\n",
        "print(add(2, 3))  # Output: 5\n",
        "\n",
        "# Method\n",
        "my_list = [1, 2, 3]\n",
        "my_list.append(4)   # append() is a method of list object\n",
        "print(my_list)      # Output: [1, 2, 3, 4]"
      ]
    },
    {
      "cell_type": "markdown",
      "source": [
        "**2. Explain the concept of function arguments and parameters in Python.**\n",
        "\n",
        "      Parameters are variables defined in the function definition.\n",
        "\n",
        "      Arguments are actual values passed when calling the function."
      ],
      "metadata": {
        "id": "uPpsRmlU_o71"
      }
    },
    {
      "cell_type": "code",
      "source": [
        "#Example:\n",
        "\n",
        "def greet(name):   # 'name' is a parameter\n",
        "    return f\"Hello {name}\"\n",
        "\n",
        "print(greet(\"Rupal\"))   # \"Rupal\" is an argument"
      ],
      "metadata": {
        "colab": {
          "base_uri": "https://localhost:8080/"
        },
        "id": "VPJED8Ug_ldQ",
        "outputId": "a982a31e-9240-46d7-e4c7-5dca48015233"
      },
      "execution_count": 2,
      "outputs": [
        {
          "output_type": "stream",
          "name": "stdout",
          "text": [
            "Hello Rupal\n"
          ]
        }
      ]
    },
    {
      "cell_type": "markdown",
      "source": [
        "**3. What are the different ways to define and call a function in Python?**\n",
        "\n",
        "      Normal function with def\n",
        "\n",
        "      Lambda function (anonymous function)\n",
        "\n",
        "      Using *args and **kwargs for variable arguments"
      ],
      "metadata": {
        "id": "EmMSmnuR_-FX"
      }
    },
    {
      "cell_type": "code",
      "source": [
        "#Example:\n",
        "\n",
        "def add(a, b):    # Normal function\n",
        "    return a + b\n",
        "print(add(2, 3))\n",
        "\n",
        "# Lambda function\n",
        "square = lambda x: x * x\n",
        "print(square(5))  # Output: 25"
      ],
      "metadata": {
        "colab": {
          "base_uri": "https://localhost:8080/"
        },
        "id": "FT7R2edsACPm",
        "outputId": "c2a6b6d8-ad6b-4708-ec46-c5ca1ffc230b"
      },
      "execution_count": 3,
      "outputs": [
        {
          "output_type": "stream",
          "name": "stdout",
          "text": [
            "5\n",
            "25\n"
          ]
        }
      ]
    },
    {
      "cell_type": "markdown",
      "source": [
        "**4. What is the purpose of the return statement in a Python function?**\n",
        "\n",
        "      The return statement sends a value back from the function to the caller."
      ],
      "metadata": {
        "id": "JYl6Fc5LAIn7"
      }
    },
    {
      "cell_type": "code",
      "source": [
        "#Example:\n",
        "\n",
        "def multiply(a, b):\n",
        "    return a * b\n",
        "\n",
        "result = multiply(3, 4)\n",
        "print(result)"
      ],
      "metadata": {
        "colab": {
          "base_uri": "https://localhost:8080/"
        },
        "id": "YUyzntz2AFYF",
        "outputId": "d081fd34-c01d-4104-a13f-0b1bd4b847ca"
      },
      "execution_count": 4,
      "outputs": [
        {
          "output_type": "stream",
          "name": "stdout",
          "text": [
            "12\n"
          ]
        }
      ]
    },
    {
      "cell_type": "markdown",
      "source": [
        "**5. What are iterators in Python and how do they differ from iterables?**\n",
        "\n",
        "      Iterable: An object that can be looped over (list, tuple, string).\n",
        "\n",
        "      Iterator: An object that produces elements from an iterable one at a time using iter() and next()."
      ],
      "metadata": {
        "id": "qcObkGh-AS-R"
      }
    },
    {
      "cell_type": "code",
      "source": [
        "#Example:\n",
        "\n",
        "nums = [1, 2, 3]\n",
        "it = iter(nums)\n",
        "print(next(it))\n",
        "print(next(it))"
      ],
      "metadata": {
        "colab": {
          "base_uri": "https://localhost:8080/"
        },
        "id": "QeqheiMxAQNR",
        "outputId": "ae31f44f-da05-474e-a10b-0e42f898b973"
      },
      "execution_count": 5,
      "outputs": [
        {
          "output_type": "stream",
          "name": "stdout",
          "text": [
            "1\n",
            "2\n"
          ]
        }
      ]
    },
    {
      "cell_type": "markdown",
      "source": [
        "**6. Explain the concept of generators in Python and how they are defined.**\n",
        "\n",
        "      Generators are special functions that yield values one at a time using yield keyword.\n",
        "\n",
        "      They are memory-efficient and produce values lazily."
      ],
      "metadata": {
        "id": "iHGcgIF6Ae7_"
      }
    },
    {
      "cell_type": "code",
      "source": [
        "#Example:\n",
        "\n",
        "def my_gen():\n",
        "    yield 1\n",
        "    yield 2\n",
        "    yield 3\n",
        "\n",
        "for val in my_gen():\n",
        "    print(val)"
      ],
      "metadata": {
        "colab": {
          "base_uri": "https://localhost:8080/"
        },
        "id": "vFN1itX_AdwP",
        "outputId": "bc632673-608e-41a8-aca0-211e27f498e1"
      },
      "execution_count": 6,
      "outputs": [
        {
          "output_type": "stream",
          "name": "stdout",
          "text": [
            "1\n",
            "2\n",
            "3\n"
          ]
        }
      ]
    },
    {
      "cell_type": "markdown",
      "source": [
        "**7. What are the advantages of using generators over regular functions?**\n",
        "\n",
        "     Memory efficient (no need to store entire list).\n",
        "\n",
        "     Lazy evaluation (generate values when required).\n",
        "\n",
        "     Useful for handling large datasets."
      ],
      "metadata": {
        "id": "s-fAu8HBAoaM"
      }
    },
    {
      "cell_type": "code",
      "source": [
        "#Example:\n",
        "\n",
        "gen = (x*x for x in range(1000000))\n",
        "print(next(gen))\n",
        "print(next(gen))"
      ],
      "metadata": {
        "colab": {
          "base_uri": "https://localhost:8080/"
        },
        "id": "-TDNXMYiAnc8",
        "outputId": "27ca796e-60d6-4bee-b2dc-878d9a5d0e80"
      },
      "execution_count": 7,
      "outputs": [
        {
          "output_type": "stream",
          "name": "stdout",
          "text": [
            "0\n",
            "1\n"
          ]
        }
      ]
    },
    {
      "cell_type": "markdown",
      "source": [
        "**8. What is a lambda function in Python and when is it typically used?**\n",
        "\n",
        "      A lambda function is a small anonymous function defined using the lambda keyword.\n",
        "\n",
        "      Used when a short function is required temporarily (e.g., in map, filter, reduce)."
      ],
      "metadata": {
        "id": "PTePmyi7BFIj"
      }
    },
    {
      "cell_type": "code",
      "source": [
        "#Example:\n",
        "\n",
        "square = lambda x: x*x\n",
        "print(square(4))"
      ],
      "metadata": {
        "colab": {
          "base_uri": "https://localhost:8080/"
        },
        "id": "d-mt8rLjBCpm",
        "outputId": "98426463-c5c0-4b55-e2b7-4e387012dcf8"
      },
      "execution_count": 8,
      "outputs": [
        {
          "output_type": "stream",
          "name": "stdout",
          "text": [
            "16\n"
          ]
        }
      ]
    },
    {
      "cell_type": "markdown",
      "source": [
        "**9. Explain the purpose and usage of the map() function in Python.**\n",
        "\n",
        "       map() applies a function to every item in an iterable.\n",
        "\n",
        "       Returns a map object (iterator)."
      ],
      "metadata": {
        "id": "EiuDia3rBRr4"
      }
    },
    {
      "cell_type": "code",
      "source": [
        "#Example:\n",
        "\n",
        "nums = [1, 2, 3, 4]\n",
        "squared = list(map(lambda x: x*x, nums))\n",
        "print(squared)"
      ],
      "metadata": {
        "colab": {
          "base_uri": "https://localhost:8080/"
        },
        "id": "u4NSvAkaBVzO",
        "outputId": "00c500ec-ff07-4a86-bc39-83e5b080c3d1"
      },
      "execution_count": 9,
      "outputs": [
        {
          "output_type": "stream",
          "name": "stdout",
          "text": [
            "[1, 4, 9, 16]\n"
          ]
        }
      ]
    },
    {
      "cell_type": "markdown",
      "source": [
        "**10. What is the difference between map(), reduce(), and filter() functions in Python?**\n",
        "\n",
        "     map(function, iterable) → applies function to each element.\n",
        "\n",
        "     filter(function, iterable) → filters elements based on condition.\n",
        "\n",
        "     reduce(function, iterable) → reduces iterable to a single value (from functools)."
      ],
      "metadata": {
        "id": "o0F9ZEESBb5S"
      }
    },
    {
      "cell_type": "code",
      "source": [
        "#Example:\n",
        "\n",
        "from functools import reduce\n",
        "\n",
        "nums = [1, 2, 3, 4]\n",
        "\n",
        "print(list(map(lambda x: x*2, nums)))\n",
        "print(list(filter(lambda x: x%2==0, nums)))\n",
        "print(reduce(lambda a, b: a+b, nums))"
      ],
      "metadata": {
        "colab": {
          "base_uri": "https://localhost:8080/"
        },
        "id": "0xl2wuWHBZFL",
        "outputId": "4e2d287f-f2de-429f-cf46-7284ae280302"
      },
      "execution_count": 10,
      "outputs": [
        {
          "output_type": "stream",
          "name": "stdout",
          "text": [
            "[2, 4, 6, 8]\n",
            "[2, 4]\n",
            "10\n"
          ]
        }
      ]
    },
    {
      "cell_type": "markdown",
      "source": [
        "**11. Using pen & paper write the internal mechanism for sum operation using reduce function on this given list: [47, 11, 42, 13]**\n",
        "\n",
        "\n",
        "![WhatsApp Image 2025-10-02 at 9.21.58 AM.jpeg](data:image/jpeg;base64,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)"
      ],
      "metadata": {
        "id": "SK2btbv2BzW6"
      }
    },
    {
      "cell_type": "markdown",
      "source": [
        "# **Practical Python Questions**"
      ],
      "metadata": {
        "id": "y10qOF1PEijn"
      }
    },
    {
      "cell_type": "markdown",
      "source": [
        "1. Write a Python function that takes a list of numbers as input and returns the sum of all even numbers in the list.\n"
      ],
      "metadata": {
        "id": "if7gzhfEE0z-"
      }
    },
    {
      "cell_type": "code",
      "source": [
        "def sum_of_evens(numbers):\n",
        "    return sum(num for num in numbers if num % 2 == 0)\n",
        "\n",
        "# Example\n",
        "print(sum_of_evens([1, 2, 3, 4, 5, 6]))"
      ],
      "metadata": {
        "colab": {
          "base_uri": "https://localhost:8080/"
        },
        "id": "J5CrwrdLBl4J",
        "outputId": "78f18d1f-87f6-47d8-8f4e-1ad778f752db"
      },
      "execution_count": 11,
      "outputs": [
        {
          "output_type": "stream",
          "name": "stdout",
          "text": [
            "12\n"
          ]
        }
      ]
    },
    {
      "cell_type": "markdown",
      "source": [
        "2. Create a Python function that accepts a string and returns the reverse of that string.\n"
      ],
      "metadata": {
        "id": "WYt8QpteFC9G"
      }
    },
    {
      "cell_type": "code",
      "source": [
        "def reverse_string(s):\n",
        "    return s[::-1]\n",
        "\n",
        "# Example\n",
        "print(reverse_string(\"Python\"))"
      ],
      "metadata": {
        "colab": {
          "base_uri": "https://localhost:8080/"
        },
        "id": "zaY77KH9FAma",
        "outputId": "d5873055-c567-4013-8447-6b68d5caa17a"
      },
      "execution_count": 12,
      "outputs": [
        {
          "output_type": "stream",
          "name": "stdout",
          "text": [
            "nohtyP\n"
          ]
        }
      ]
    },
    {
      "cell_type": "markdown",
      "source": [
        "3. Implement a Python function that takes a list of integers and returns a new list containing the squares of each number.\n"
      ],
      "metadata": {
        "id": "7x6DXvCtFJZT"
      }
    },
    {
      "cell_type": "code",
      "source": [
        "def squares_list(numbers):\n",
        "    return [num**2 for num in numbers]\n",
        "\n",
        "# Example\n",
        "print(squares_list([1, 2, 3, 4]))"
      ],
      "metadata": {
        "colab": {
          "base_uri": "https://localhost:8080/"
        },
        "id": "Ent0O_tuFGq2",
        "outputId": "badbc254-2c26-4e3b-e7f3-19b5c9e94a9e"
      },
      "execution_count": 13,
      "outputs": [
        {
          "output_type": "stream",
          "name": "stdout",
          "text": [
            "[1, 4, 9, 16]\n"
          ]
        }
      ]
    },
    {
      "cell_type": "markdown",
      "source": [
        "4. Write a Python function that checks if a given number is prime or not from 1 to 200.\n"
      ],
      "metadata": {
        "id": "f4qCDzlnFMg3"
      }
    },
    {
      "cell_type": "code",
      "source": [
        "def is_prime(num):\n",
        "    if num < 2:\n",
        "        return False\n",
        "    for i in range(2, int(num**0.5) + 1):\n",
        "        if num % i == 0:\n",
        "            return False\n",
        "    return True\n",
        "\n",
        "# Example\n",
        "print([n for n in range(1, 201) if is_prime(n)])"
      ],
      "metadata": {
        "colab": {
          "base_uri": "https://localhost:8080/"
        },
        "id": "DNjS7M9PFLp9",
        "outputId": "6c8a7fc3-63fe-48b2-e132-a5c66d7be8bd"
      },
      "execution_count": 14,
      "outputs": [
        {
          "output_type": "stream",
          "name": "stdout",
          "text": [
            "[2, 3, 5, 7, 11, 13, 17, 19, 23, 29, 31, 37, 41, 43, 47, 53, 59, 61, 67, 71, 73, 79, 83, 89, 97, 101, 103, 107, 109, 113, 127, 131, 137, 139, 149, 151, 157, 163, 167, 173, 179, 181, 191, 193, 197, 199]\n"
          ]
        }
      ]
    },
    {
      "cell_type": "markdown",
      "source": [
        "5. Create an iterator class in Python that generates the Fibonacci sequence up to a specified number of terms."
      ],
      "metadata": {
        "id": "1sr8PR71FRpt"
      }
    },
    {
      "cell_type": "code",
      "source": [
        "class Fibonacci:\n",
        "    def __init__(self, n):\n",
        "        self.n = n\n",
        "        self.a, self.b, self.count = 0, 1, 0\n",
        "\n",
        "    def __iter__(self):\n",
        "        return self\n",
        "\n",
        "    def __next__(self):\n",
        "        if self.count < self.n:\n",
        "            val = self.a\n",
        "            self.a, self.b = self.b, self.a + self.b\n",
        "            self.count += 1\n",
        "            return val\n",
        "        else:\n",
        "            raise StopIteration\n",
        "\n",
        "# Example\n",
        "for num in Fibonacci(10):\n",
        "    print(num, end=\" \")\n"
      ],
      "metadata": {
        "colab": {
          "base_uri": "https://localhost:8080/"
        },
        "id": "5MZdOO_-FQ9j",
        "outputId": "c9861c68-0ae6-4059-f0b2-a692f6bac081"
      },
      "execution_count": 16,
      "outputs": [
        {
          "output_type": "stream",
          "name": "stdout",
          "text": [
            "0 1 1 2 3 5 8 13 21 34 "
          ]
        }
      ]
    },
    {
      "cell_type": "markdown",
      "source": [
        "6. Write a generator function in Python that yields the powers of 2 up to a given exponent.\n"
      ],
      "metadata": {
        "id": "6BdYNu0JFhkP"
      }
    },
    {
      "cell_type": "code",
      "source": [
        "def powers_of_two(n):\n",
        "    for i in range(n+1):\n",
        "        yield 2**i\n",
        "\n",
        "# Example\n",
        "print(list(powers_of_two(5)))"
      ],
      "metadata": {
        "colab": {
          "base_uri": "https://localhost:8080/"
        },
        "id": "GaKbN-twFbmO",
        "outputId": "2beec030-7ddc-4402-af54-4b7a3f9c76b6"
      },
      "execution_count": 17,
      "outputs": [
        {
          "output_type": "stream",
          "name": "stdout",
          "text": [
            "[1, 2, 4, 8, 16, 32]\n"
          ]
        }
      ]
    },
    {
      "cell_type": "markdown",
      "source": [
        "7. Implement a generator function that reads a file line by line and yields each line as a string.\n",
        "\n"
      ],
      "metadata": {
        "id": "C1vPjB7rFmaK"
      }
    },
    {
      "cell_type": "code",
      "source": [
        "def read_file(filename):\n",
        "    with open(filename, \"r\") as f:\n",
        "        for line in f:\n",
        "            yield line.strip()\n",
        "\n",
        "# Example (Assume file.txt exists)\n",
        "for line in read_file(\"file.txt\"):\n",
        "     print(line)"
      ],
      "metadata": {
        "colab": {
          "base_uri": "https://localhost:8080/"
        },
        "id": "ytCZ2_dVFtE8",
        "outputId": "e7e25f17-1d78-43f2-f1c6-9381fdf2982b"
      },
      "execution_count": 26,
      "outputs": [
        {
          "output_type": "stream",
          "name": "stdout",
          "text": [
            "This is the first line.\n",
            "This is the second line.\n",
            "This is the third line.\n"
          ]
        }
      ]
    },
    {
      "cell_type": "code",
      "metadata": {
        "colab": {
          "base_uri": "https://localhost:8080/"
        },
        "id": "243fceef",
        "outputId": "3f5e6098-5e8a-4380-e10d-677384bd6ac8"
      },
      "source": [
        "# Create a dummy file.txt\n",
        "with open(\"file.txt\", \"w\") as f:\n",
        "    f.write(\"This is the first line.\\n\")\n",
        "    f.write(\"This is the second line.\\n\")\n",
        "    f.write(\"This is the third line.\")\n",
        "\n",
        "print(\"file.txt created successfully.\")"
      ],
      "execution_count": 25,
      "outputs": [
        {
          "output_type": "stream",
          "name": "stdout",
          "text": [
            "file.txt created successfully.\n"
          ]
        }
      ]
    },
    {
      "cell_type": "markdown",
      "source": [
        "8. Use a lambda function in Python to sort a list of tuples based on the second element of each tuple.\n"
      ],
      "metadata": {
        "id": "Qn3TTTF8GTAQ"
      }
    },
    {
      "cell_type": "code",
      "source": [
        "tuples = [(1, 3), (2, 2), (4, 1)]\n",
        "sorted_tuples = sorted(tuples, key=lambda x: x[1])\n",
        "\n",
        "print(sorted_tuples)"
      ],
      "metadata": {
        "colab": {
          "base_uri": "https://localhost:8080/"
        },
        "id": "AbiUxWZDFtm_",
        "outputId": "e99f7650-bb44-4b04-a14d-2eb2e5cafe5a"
      },
      "execution_count": 27,
      "outputs": [
        {
          "output_type": "stream",
          "name": "stdout",
          "text": [
            "[(4, 1), (2, 2), (1, 3)]\n"
          ]
        }
      ]
    },
    {
      "cell_type": "markdown",
      "source": [
        "9. Write a Python program that uses map() to convert a list of temperatures from Celsius to Fahrenheit.\n"
      ],
      "metadata": {
        "id": "sGOgf9qjGX-b"
      }
    },
    {
      "cell_type": "code",
      "source": [
        "celsius = [0, 20, 30, 40]\n",
        "fahrenheit = list(map(lambda c: (c * 9/5) + 32, celsius))\n",
        "\n",
        "print(fahrenheit)"
      ],
      "metadata": {
        "colab": {
          "base_uri": "https://localhost:8080/"
        },
        "id": "UyrnUCRqGXDc",
        "outputId": "65bf91c3-251f-4e4f-a891-9cbbcc22333f"
      },
      "execution_count": 28,
      "outputs": [
        {
          "output_type": "stream",
          "name": "stdout",
          "text": [
            "[32.0, 68.0, 86.0, 104.0]\n"
          ]
        }
      ]
    },
    {
      "cell_type": "markdown",
      "source": [
        "10. Create a Python program that uses filter() to remove all the vowels from a given string.\n",
        ""
      ],
      "metadata": {
        "id": "VCYAir4GGcwV"
      }
    },
    {
      "cell_type": "code",
      "source": [
        "def remove_vowels(s):\n",
        "    vowels = \"aeiouAEIOU\"\n",
        "    return \"\".join(filter(lambda ch: ch not in vowels, s))\n",
        "\n",
        "# Example\n",
        "print(remove_vowels(\"Hello World\"))"
      ],
      "metadata": {
        "colab": {
          "base_uri": "https://localhost:8080/"
        },
        "id": "whSeRg1FGbw0",
        "outputId": "9bdf0854-8ab8-47bf-8c58-caa01e6c87ed"
      },
      "execution_count": 29,
      "outputs": [
        {
          "output_type": "stream",
          "name": "stdout",
          "text": [
            "Hll Wrld\n"
          ]
        }
      ]
    },
    {
      "cell_type": "markdown",
      "source": [
        "11. Imagine an accounting routine used in a book shop. It works on a list with sublists, which look like this:\n",
        "\n",
        "| Order Number | Book Title and Author              | Quantity | Price per Item |\n",
        "| ------------ | ---------------------------------- | -------- | -------------- |\n",
        "| 34587        | Learning Python, Mark Lutz         | 4        | 40.95          |\n",
        "| 98762        | Programming Python, Mark Lutz      | 5        | 56.80          |\n",
        "| 77226        | Head First Python, Paul Barry      | 3        | 32.95          |\n",
        "| 88112        | Einführung in Python3, Bernd Klein | 3        | 24.99          |\n",
        "\n",
        "\n",
        "  Write a Python program, which returns a list with 2-tuples. Each tuple consists of the order number and the product of the price per item and the quantity. The product should be increased by 10,- € if the value of the order is smaller than 100,00 €.\n",
        "\n",
        "  Write a Python program using lambda and map."
      ],
      "metadata": {
        "id": "bP5vNhHEGho4"
      }
    },
    {
      "cell_type": "code",
      "source": [
        "#Return a list with 2-tuples.\n",
        "#Each tuple = (order_number, total_price)\n",
        "#total_price = price_per_item * quantity\n",
        "#If total_price < 100, then increase by 10 €.\n",
        "#Use lambda and map.\n",
        "\n",
        "# Given data\n",
        "orders = [\n",
        "    [34587, \"Learning Python, Mark Lutz\", 4, 40.95],\n",
        "    [98762, \"Programming Python, Mark Lutz\", 5, 56.80],\n",
        "    [77226, \"Head First Python, Paul Barry\", 3, 32.95],\n",
        "    [88112, \"Einführung in Python3, Bernd Klein\", 3, 24.99]\n",
        "]\n",
        "\n",
        "# Using map and lambda\n",
        "result = list(map(lambda order: (\n",
        "    order[0],\n",
        "    order[2] * order[3] if order[2] * order[3] >= 100 else order[2] * order[3] + 10\n",
        "), orders))\n",
        "\n",
        "print(result)\n"
      ],
      "metadata": {
        "colab": {
          "base_uri": "https://localhost:8080/"
        },
        "id": "FuYsSvUqGg8X",
        "outputId": "85ecf4fc-265a-448d-b93f-98c401bde23d"
      },
      "execution_count": 30,
      "outputs": [
        {
          "output_type": "stream",
          "name": "stdout",
          "text": [
            "[(34587, 163.8), (98762, 284.0), (77226, 108.85000000000001), (88112, 84.97)]\n"
          ]
        }
      ]
    },
    {
      "cell_type": "code",
      "source": [],
      "metadata": {
        "id": "Kk5TXUl-HnyZ"
      },
      "execution_count": null,
      "outputs": []
    }
  ]
}